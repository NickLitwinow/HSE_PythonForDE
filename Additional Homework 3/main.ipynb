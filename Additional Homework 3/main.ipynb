{
 "cells": [
  {
   "cell_type": "code",
   "id": "initial_id",
   "metadata": {
    "collapsed": true,
    "ExecuteTime": {
     "end_time": "2024-10-24T14:26:12.044309Z",
     "start_time": "2024-10-24T14:26:04.467330Z"
    }
   },
   "source": [
    "documents = [\n",
    "    {'type': 'passport', 'number': '2207 876234', 'name': 'Василий Гупкин'},\n",
    "    {'type': 'invoice', 'number': '11-2', 'name': 'Геннадий Покемонов'},\n",
    "    {'type': 'insurance', 'number': '10006', 'name': 'Аристарх Павлов'}\n",
    "]\n",
    "\n",
    "directories = {\n",
    "    '1': ['2207 876234', '11-2'],\n",
    "    '2': ['10006'],\n",
    "    '3': []\n",
    "}\n",
    "\n",
    "def get_document_by_number(number):\n",
    "    for doc in documents:\n",
    "        if doc['number'] == number:\n",
    "            return doc\n",
    "    return None\n",
    "\n",
    "def get_shelf_by_document_number(number):\n",
    "    for shelf, docs in directories.items():\n",
    "        if number in docs:\n",
    "            return shelf\n",
    "    return None\n",
    "\n",
    "def handle_command(command):\n",
    "    if command == 'p':\n",
    "        number = input(\"Введите номер документа: \")\n",
    "        doc = get_document_by_number(number)\n",
    "        if doc:\n",
    "            print(f\"Владелец документа: {doc['name']}\")\n",
    "        else:\n",
    "            print(\"Документ не найден\")\n",
    "    elif command == 's':\n",
    "        number = input(\"Введите номер документа: \")\n",
    "        shelf = get_shelf_by_document_number(number)\n",
    "        if shelf:\n",
    "            print(f\"Документ хранится на полке: {shelf}\")\n",
    "        else:\n",
    "            print(\"Документ не найден или информация о хранении отсутствует\")\n",
    "    elif command == 'q':\n",
    "        print(\"Программа завершена\")\n",
    "        return False\n",
    "    else:\n",
    "        print(\"Неизвестная команда\")\n",
    "    return True\n",
    "\n",
    "while True:\n",
    "    command = input(\"Введите команду (p - найти владельца, s - найти полку, q - выйти): \")\n",
    "    if not handle_command(command):\n",
    "        break"
   ],
   "outputs": [
    {
     "name": "stdout",
     "output_type": "stream",
     "text": [
      "Документ хранится на полке: 2\n",
      "Программа завершена\n"
     ]
    }
   ],
   "execution_count": 2
  },
  {
   "metadata": {},
   "cell_type": "code",
   "outputs": [],
   "execution_count": null,
   "source": "",
   "id": "a2b2dc68d077db8b"
  }
 ],
 "metadata": {
  "kernelspec": {
   "display_name": "Python 3",
   "language": "python",
   "name": "python3"
  },
  "language_info": {
   "codemirror_mode": {
    "name": "ipython",
    "version": 2
   },
   "file_extension": ".py",
   "mimetype": "text/x-python",
   "name": "python",
   "nbconvert_exporter": "python",
   "pygments_lexer": "ipython2",
   "version": "2.7.6"
  }
 },
 "nbformat": 4,
 "nbformat_minor": 5
}
