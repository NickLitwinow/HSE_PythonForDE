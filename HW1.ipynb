{
 "cells": [
  {
   "cell_type": "code",
   "id": "initial_id",
   "metadata": {
    "collapsed": true,
    "ExecuteTime": {
     "end_time": "2024-09-08T15:57:37.087032Z",
     "start_time": "2024-09-08T15:57:37.084078Z"
    }
   },
   "source": [
    "# IMPORTED LIBRARIES\n",
    "import json\n",
    "import csv"
   ],
   "outputs": [],
   "execution_count": 3
  },
  {
   "metadata": {
    "ExecuteTime": {
     "end_time": "2024-09-09T06:38:00.450402Z",
     "start_time": "2024-09-09T06:38:00.253076Z"
    }
   },
   "cell_type": "code",
   "source": [
    "# ЗАДАНИЕ 1\n",
    "# Переведите содержимое файла purchase_log.txt в словарь purchases\n",
    "purchases = {}\n",
    "with open('purchase_log.txt', 'r', encoding='utf-8') as f:\n",
    "    for line in f:\n",
    "        data = json.loads(line.strip())\n",
    "        user_id = data['user_id']\n",
    "        category = data['category']\n",
    "        purchases[user_id] = category\n",
    "\n",
    "# Пример работы программы при выводе первых двух элементов словаря purchases:\n",
    "for i, element in enumerate(purchases.items()):\n",
    "    print(element)\n",
    "    if i == 2:\n",
    "        break"
   ],
   "id": "125e682a8ec11ece",
   "outputs": [
    {
     "name": "stdout",
     "output_type": "stream",
     "text": [
      "('user_id', 'category')\n",
      "('1840e0b9d4', 'Продукты')\n",
      "('4e4f90fcfb', 'Электроника')\n"
     ]
    }
   ],
   "execution_count": 35
  },
  {
   "metadata": {
    "ExecuteTime": {
     "end_time": "2024-09-09T06:42:54.009430Z",
     "start_time": "2024-09-09T06:42:53.888485Z"
    }
   },
   "cell_type": "code",
   "source": [
    "# ЗАДАНИЕ 2\n",
    "# Открываем файл funnel.csv для записи визитов с покупками\n",
    "with open('funnel.csv', 'w', encoding='utf-8', newline='') as funnel_file_write:\n",
    "    writer = csv.writer(funnel_file_write)\n",
    "\n",
    "    # Открываем файл visit_log.csv для построчного чтения\n",
    "    with open('visit_log.csv', 'r', encoding='utf-8') as visit_file:\n",
    "        reader = csv.reader(visit_file)\n",
    "        for row in reader:\n",
    "            user_id = row[0]\n",
    "            # Если у пользователя есть покупка, добавляем категорию и записываем в funnel.csv\n",
    "            if user_id in purchases:\n",
    "                row.append(purchases[user_id])\n",
    "                writer.writerow(row)\n",
    "\n",
    "    # Примеры работы программы при выводе первых трёх строк файла funnel.csv\n",
    "    with open('funnel.csv', 'r', encoding='utf-8', newline='') as funnel_file_read:\n",
    "        for i, element in enumerate(funnel_file_read):\n",
    "            print(element.strip())\n",
    "            if i == 2:\n",
    "                break"
   ],
   "id": "38b6dc428cff133",
   "outputs": [
    {
     "name": "stdout",
     "output_type": "stream",
     "text": [
      "1840e0b9d4,other,Продукты\n",
      "4e4f90fcfb,context,Электроника\n",
      "afea8d72fc,other,Электроника\n"
     ]
    }
   ],
   "execution_count": 39
  }
 ],
 "metadata": {
  "kernelspec": {
   "display_name": "Python 3",
   "language": "python",
   "name": "python3"
  },
  "language_info": {
   "codemirror_mode": {
    "name": "ipython",
    "version": 2
   },
   "file_extension": ".py",
   "mimetype": "text/x-python",
   "name": "python",
   "nbconvert_exporter": "python",
   "pygments_lexer": "ipython2",
   "version": "2.7.6"
  }
 },
 "nbformat": 4,
 "nbformat_minor": 5
}
