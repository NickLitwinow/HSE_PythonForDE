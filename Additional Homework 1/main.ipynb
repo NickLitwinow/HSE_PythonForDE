{
 "cells": [
  {
   "metadata": {},
   "cell_type": "markdown",
   "source": "### Задание 1",
   "id": "eac5055d3a932d47"
  },
  {
   "cell_type": "code",
   "id": "initial_id",
   "metadata": {
    "collapsed": true,
    "ExecuteTime": {
     "end_time": "2024-10-24T14:10:51.159015Z",
     "start_time": "2024-10-24T14:10:51.154763Z"
    }
   },
   "source": [
    "def is_leap_year(year):\n",
    "  \"\"\"Проверяет, является ли год високосным.\n",
    "\n",
    "  Args:\n",
    "    year: Год в формате целого числа.\n",
    "\n",
    "  Returns:\n",
    "    True, если год високосный, иначе False.\n",
    "  \"\"\"\n",
    "\n",
    "  if year % 4 == 0:\n",
    "    if year % 100 == 0:\n",
    "      return year % 400 == 0\n",
    "    else:\n",
    "      return True\n",
    "  else:\n",
    "    return False\n",
    "\n",
    "# Примеры использования\n",
    "year = 2020\n",
    "if is_leap_year(year):\n",
    "  print(\"Високосный год\")\n",
    "else:\n",
    "  print(\"Обычный год\")\n",
    "\n",
    "year = 2019\n",
    "if is_leap_year(year):\n",
    "  print(\"Високосный год\")\n",
    "else:\n",
    "  print(\"Обычный год\")"
   ],
   "outputs": [
    {
     "name": "stdout",
     "output_type": "stream",
     "text": [
      "Високосный год\n",
      "Обычный год\n"
     ]
    }
   ],
   "execution_count": 1
  },
  {
   "metadata": {},
   "cell_type": "markdown",
   "source": "### Задание 2",
   "id": "5557d494a65ed8ef"
  },
  {
   "metadata": {
    "ExecuteTime": {
     "end_time": "2024-10-24T14:10:53.175060Z",
     "start_time": "2024-10-24T14:10:53.168797Z"
    }
   },
   "cell_type": "code",
   "source": [
    "def is_lucky_ticket(number):\n",
    "  \"\"\"Проверяет, является ли билет счастливым.\n",
    "\n",
    "  Args:\n",
    "    number: Номер билета в формате целого числа.\n",
    "\n",
    "  Returns:\n",
    "    True, если билет счастливый, иначе False.\n",
    "  \"\"\"\n",
    "\n",
    "  str_number = str(number)\n",
    "  first_half = str_number[:3]\n",
    "  second_half = str_number[3:]\n",
    "  return sum(int(digit) for digit in first_half) == sum(int(digit) for digit in second_half)\n",
    "\n",
    "# Примеры использования\n",
    "number = 123456\n",
    "if is_lucky_ticket(number):\n",
    "  print(\"Счастливый билет\")\n",
    "else:\n",
    "  print(\"Несчастливый билет\")\n",
    "\n",
    "number = 123321\n",
    "if is_lucky_ticket(number):\n",
    "  print(\"Счастливый билет\")\n",
    "else:\n",
    "  print(\"Несчастливый билет\")"
   ],
   "id": "4a3f5a4eea5cac2b",
   "outputs": [
    {
     "name": "stdout",
     "output_type": "stream",
     "text": [
      "Несчастливый билет\n",
      "Счастливый билет\n"
     ]
    }
   ],
   "execution_count": 2
  },
  {
   "metadata": {},
   "cell_type": "code",
   "outputs": [],
   "execution_count": null,
   "source": "",
   "id": "4a3da99f2e9ce1fc"
  }
 ],
 "metadata": {
  "kernelspec": {
   "display_name": "Python 3",
   "language": "python",
   "name": "python3"
  },
  "language_info": {
   "codemirror_mode": {
    "name": "ipython",
    "version": 2
   },
   "file_extension": ".py",
   "mimetype": "text/x-python",
   "name": "python",
   "nbconvert_exporter": "python",
   "pygments_lexer": "ipython2",
   "version": "2.7.6"
  }
 },
 "nbformat": 4,
 "nbformat_minor": 5
}
