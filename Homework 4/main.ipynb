{
 "cells": [
  {
   "metadata": {},
   "cell_type": "markdown",
   "source": "# Необходимые библиотеки",
   "id": "e16d067ebf3685ea"
  },
  {
   "cell_type": "code",
   "id": "initial_id",
   "metadata": {
    "collapsed": true,
    "ExecuteTime": {
     "end_time": "2024-10-11T16:12:47.654331Z",
     "start_time": "2024-10-11T16:12:47.652388Z"
    }
   },
   "source": "import re  # Регулярные выражения",
   "outputs": [],
   "execution_count": 2
  },
  {
   "metadata": {},
   "cell_type": "markdown",
   "source": "# Задание 1",
   "id": "8bac57168afb0073"
  },
  {
   "metadata": {
    "ExecuteTime": {
     "end_time": "2024-10-11T16:18:41.413062Z",
     "start_time": "2024-10-11T16:18:41.409569Z"
    }
   },
   "cell_type": "code",
   "source": [
    "def check_car_number(car_id):\n",
    "    # Регулярное выражение для проверки номера автомобиля\n",
    "    pattern = r'^([А-Я]{1}\\d{3}[А-Я]{2})(\\d{2,3})$'\n",
    "    \n",
    "    match = re.match(pattern, car_id)\n",
    "    \n",
    "    if match:\n",
    "        return f\"Номер {match.group(1)} валиден. Регион: {match.group(2)}.\"\n",
    "    else:\n",
    "        return \"Номер не валиден.\""
   ],
   "id": "c25048c0e1d8dc84",
   "outputs": [],
   "execution_count": 11
  },
  {
   "metadata": {},
   "cell_type": "markdown",
   "source": "### Примеры задания 1",
   "id": "561f0439cfdcc9ce"
  },
  {
   "metadata": {
    "ExecuteTime": {
     "end_time": "2024-10-11T16:18:43.449608Z",
     "start_time": "2024-10-11T16:18:43.446714Z"
    }
   },
   "cell_type": "code",
   "source": [
    "print(check_car_number('А222ВС96'))\n",
    "print(check_car_number('АБ22ВВ193'))"
   ],
   "id": "9b307865acc5d210",
   "outputs": [
    {
     "name": "stdout",
     "output_type": "stream",
     "text": [
      "Номер А222ВС валиден. Регион: 96.\n",
      "Номер не валиден.\n"
     ]
    }
   ],
   "execution_count": 12
  },
  {
   "metadata": {},
   "cell_type": "markdown",
   "source": "# Задание 2",
   "id": "b94fe29f3839dc78"
  },
  {
   "metadata": {
    "ExecuteTime": {
     "end_time": "2024-10-11T16:18:47.969428Z",
     "start_time": "2024-10-11T16:18:47.965842Z"
    }
   },
   "cell_type": "code",
   "source": [
    "def remove_duplicate_words(some_string):\n",
    "    # Регулярное выражение для нахождения повторяющихся слов\n",
    "    pattern = r'\\b(\\w+)( \\1)+\\b'\n",
    "    \n",
    "    # Замена повторяющихся слов\n",
    "    result = re.sub(pattern, r'\\1', some_string)\n",
    "    \n",
    "    return result"
   ],
   "id": "7c19ca203473ddcf",
   "outputs": [],
   "execution_count": 13
  },
  {
   "metadata": {},
   "cell_type": "markdown",
   "source": "### Примеры задания 2",
   "id": "2d8f77f8380f236b"
  },
  {
   "metadata": {
    "ExecuteTime": {
     "end_time": "2024-10-11T16:18:49.141815Z",
     "start_time": "2024-10-11T16:18:49.139024Z"
    }
   },
   "cell_type": "code",
   "source": [
    "some_string = ('Напишите функцию функцию, которая будет будет будет будет '\n",
    "               'удалять все все все все последовательные повторы слов из из '\n",
    "               'из из заданной строки строки при помощи регулярных выражений')\n",
    "\n",
    "print(remove_duplicate_words(some_string))"
   ],
   "id": "3e9d783f6e3679d2",
   "outputs": [
    {
     "name": "stdout",
     "output_type": "stream",
     "text": [
      "Напишите функцию, которая будет удалять все последовательные повторы слов из заданной строки при помощи регулярных выражений\n"
     ]
    }
   ],
   "execution_count": 14
  },
  {
   "metadata": {},
   "cell_type": "code",
   "outputs": [],
   "execution_count": null,
   "source": "",
   "id": "65ee4b5155926f43"
  }
 ],
 "metadata": {
  "kernelspec": {
   "display_name": "Python 3",
   "language": "python",
   "name": "python3"
  },
  "language_info": {
   "codemirror_mode": {
    "name": "ipython",
    "version": 2
   },
   "file_extension": ".py",
   "mimetype": "text/x-python",
   "name": "python",
   "nbconvert_exporter": "python",
   "pygments_lexer": "ipython2",
   "version": "2.7.6"
  }
 },
 "nbformat": 4,
 "nbformat_minor": 5
}
