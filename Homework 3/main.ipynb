{
 "cells": [
  {
   "cell_type": "code",
   "id": "initial_id",
   "metadata": {
    "collapsed": true,
    "ExecuteTime": {
     "end_time": "2024-10-21T09:22:52.470433Z",
     "start_time": "2024-10-21T09:22:52.460338Z"
    }
   },
   "source": [
    "from datetime import datetime\n",
    "from typing import List\n",
    "\n",
    "\n",
    "class TransactionLogger:\n",
    "    def __init__(self, log_file: str = \"transaction_history.log\"):\n",
    "        self.__history: List[str] = []\n",
    "        self.__log_file = log_file\n",
    "\n",
    "    def log(self, account_name: str, message: str) -> None:\n",
    "        timestamp = datetime.now().strftime(\"%Y-%m-%d %H:%M:%S\")\n",
    "        log_message = f\"{timestamp} [{account_name}]: {message}\"\n",
    "        self.__history.append(log_message)\n",
    "\n",
    "        with open(self.__log_file, 'a', encoding='utf-8') as file:\n",
    "            file.write(log_message + '\\n')\n",
    "\n",
    "    def get_history(self) -> List[str]:\n",
    "        return self.__history\n",
    "\n",
    "\n",
    "class InvalidAmountError(Exception):\n",
    "    pass\n",
    "\n",
    "class InsufficientFundsError(Exception):\n",
    "    pass\n",
    "\n",
    "\n",
    "class Account:\n",
    "    def __init__(self, name: str, initial_balance: float = 0, log_file: str = \"transaction_history.log\"):\n",
    "        self.__name = name\n",
    "        self.__balance = initial_balance\n",
    "        self.__transaction_logger = TransactionLogger(log_file)\n",
    "\n",
    "    @property\n",
    "    def name(self) -> str:\n",
    "        return self.__name\n",
    "\n",
    "    @property\n",
    "    def balance(self) -> float:\n",
    "        return self.__balance\n",
    "\n",
    "    def deposit(self, amount: float) -> None:\n",
    "        try:\n",
    "            if amount <= 0:\n",
    "                raise InvalidAmountError(\"Сумма депозита должна быть положительной.\")\n",
    "            self.__balance += amount\n",
    "            self.__transaction_logger.log(self.__name, f\"Внесено {amount}$\")\n",
    "            print(f\"[{self.__name}] Операция прошла успешно – {amount}$ внесены в счет.\")\n",
    "        except InvalidAmountError as e:\n",
    "            print(f\"[{self.__name}] В операции отказано – {str(e)}\")\n",
    "\n",
    "    def withdraw(self, amount: float) -> None:\n",
    "        try:\n",
    "            if amount <= 0:\n",
    "                raise InvalidAmountError(\"Сумма вывода должна быть положительной.\")\n",
    "            if amount > self.__balance:\n",
    "                raise InsufficientFundsError(\"Недостаточно средств для вывода.\")\n",
    "            self.__balance -= amount\n",
    "            self.__transaction_logger.log(self.__name, f\"Выведено {amount}$\")\n",
    "            print(f\"[{self.__name}] Операция прошла успешно – {amount}$ выведены со счета.\")\n",
    "        except (InvalidAmountError, InsufficientFundsError) as e:\n",
    "            print(f\"[{self.__name}] В операции отказано – {str(e)}\")\n",
    "\n",
    "    def get_balance(self) -> None:\n",
    "        print(f\"Текущий баланс: [{self.__name}] – {self.__balance}$\")\n",
    "\n",
    "    def get_history(self) -> None:\n",
    "        history = self.__transaction_logger.get_history()\n",
    "        print(f\"История транзакций: [{self.__name}] – {history}\")\n"
   ],
   "outputs": [],
   "execution_count": 3
  },
  {
   "metadata": {
    "ExecuteTime": {
     "end_time": "2024-10-21T09:22:54.944937Z",
     "start_time": "2024-10-21T09:22:54.939631Z"
    }
   },
   "cell_type": "code",
   "source": [
    "# Пример использования\n",
    "acc_nick = Account(\"Никита Литвинов\", 1000)\n",
    "acc_nick.deposit(500)\n",
    "acc_nick.withdraw(300)\n",
    "acc_nick.withdraw(1500)\n",
    "acc_nick.deposit(0)\n",
    "\n",
    "acc_anastasia = Account(\"Анастасия Литвинова\", 10000000)\n",
    "acc_anastasia.get_balance()\n",
    "acc_anastasia.withdraw(500000)\n",
    "acc_nick.deposit(500000)\n",
    "acc_anastasia.get_balance()\n",
    "acc_anastasia.get_history()\n",
    "acc_nick.get_balance()\n",
    "acc_nick.get_history()"
   ],
   "id": "d03577950dfa9b1a",
   "outputs": [
    {
     "name": "stdout",
     "output_type": "stream",
     "text": [
      "[Никита Литвинов] Операция прошла успешно – 500$ внесены в счет.\n",
      "[Никита Литвинов] Операция прошла успешно – 300$ выведены со счета.\n",
      "[Никита Литвинов] В операции отказано – Недостаточно средств для вывода.\n",
      "[Никита Литвинов] В операции отказано – Сумма депозита должна быть положительной.\n",
      "Текущий баланс: [Анастасия Литвинова] – 10000000$\n",
      "[Анастасия Литвинова] Операция прошла успешно – 500000$ выведены со счета.\n",
      "[Никита Литвинов] Операция прошла успешно – 500000$ внесены в счет.\n",
      "Текущий баланс: [Анастасия Литвинова] – 9500000$\n",
      "История транзакций: [Анастасия Литвинова] – ['2024-10-21 16:22:54 [Анастасия Литвинова]: Выведено 500000$']\n",
      "Текущий баланс: [Никита Литвинов] – 501200$\n",
      "История транзакций: [Никита Литвинов] – ['2024-10-21 16:22:54 [Никита Литвинов]: Внесено 500$', '2024-10-21 16:22:54 [Никита Литвинов]: Выведено 300$', '2024-10-21 16:22:54 [Никита Литвинов]: Внесено 500000$']\n"
     ]
    }
   ],
   "execution_count": 4
  },
  {
   "metadata": {
    "ExecuteTime": {
     "end_time": "2024-10-16T15:06:46.196587Z",
     "start_time": "2024-10-16T15:06:46.062509Z"
    }
   },
   "cell_type": "code",
   "source": "!cat transaction_history.log",
   "id": "da18747a03454bb5",
   "outputs": [
    {
     "name": "stdout",
     "output_type": "stream",
     "text": [
      "2024-10-16 22:03:28 [Никита Литвинов]: Внесено 500$\r\n",
      "2024-10-16 22:03:28 [Никита Литвинов]: Выведено 300$\r\n",
      "2024-10-16 22:03:28 [Анастасия Литвинова]: Выведено 500000$\r\n",
      "2024-10-16 22:03:28 [Никита Литвинов]: Внесено 500000$\r\n",
      "2024-10-16 22:06:43 [Никита Литвинов]: Внесено 500$\r\n",
      "2024-10-16 22:06:43 [Никита Литвинов]: Выведено 300$\r\n",
      "2024-10-16 22:06:43 [Анастасия Литвинова]: Выведено 500000$\r\n",
      "2024-10-16 22:06:43 [Никита Литвинов]: Внесено 500000$\r\n"
     ]
    }
   ],
   "execution_count": 15
  },
  {
   "metadata": {},
   "cell_type": "code",
   "outputs": [],
   "execution_count": null,
   "source": "",
   "id": "31b32f609415e5b"
  }
 ],
 "metadata": {
  "kernelspec": {
   "display_name": "Python 3",
   "language": "python",
   "name": "python3"
  },
  "language_info": {
   "codemirror_mode": {
    "name": "ipython",
    "version": 2
   },
   "file_extension": ".py",
   "mimetype": "text/x-python",
   "name": "python",
   "nbconvert_exporter": "python",
   "pygments_lexer": "ipython2",
   "version": "2.7.6"
  }
 },
 "nbformat": 4,
 "nbformat_minor": 5
}
