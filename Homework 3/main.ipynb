{
 "cells": [
  {
   "cell_type": "code",
   "id": "initial_id",
   "metadata": {
    "collapsed": true,
    "ExecuteTime": {
     "end_time": "2024-10-01T12:09:00.687091Z",
     "start_time": "2024-10-01T12:09:00.681004Z"
    }
   },
   "source": [
    "class Account:\n",
    "    def __init__(self, name, initial_balance=0):\n",
    "        self.name = name\n",
    "        self.balance = initial_balance\n",
    "        self.history = []\n",
    "\n",
    "    def deposit(self, amount):\n",
    "        if amount > 0:\n",
    "            self.balance += amount\n",
    "            self.history.append(f\"Внесено {amount}$\")\n",
    "            print(f\"[{self.name}] Операция прошла успешно – {amount}$ внесены в счет.\")\n",
    "        else:\n",
    "            print(f\"[{self.name}] В операции отказано – введите положительный баланс.\")\n",
    "\n",
    "    def withdraw(self, amount):\n",
    "        if 0 < amount <= self.balance:\n",
    "            self.balance -= amount\n",
    "            self.history.append(f\"Выведено {amount}$\")\n",
    "            print(f\"[{self.name}] Операция прошла успешно – {amount}$ выведены со счета.\")\n",
    "        else:\n",
    "            print(f\"[{self.name}] В операции отказано – неверная сумма вывода или недостаточно средств.\")\n",
    "\n",
    "    def get_balance(self):\n",
    "        print(f\"Текущий баланс: [{self.name}] – {self.balance}$\")\n",
    "\n",
    "    def get_history(self):\n",
    "        print(f\"История транзакций: [{self.name}] – {self.history}\")          "
   ],
   "outputs": [],
   "execution_count": 28
  },
  {
   "metadata": {
    "ExecuteTime": {
     "end_time": "2024-10-01T12:09:02.401107Z",
     "start_time": "2024-10-01T12:09:02.398324Z"
    }
   },
   "cell_type": "code",
   "source": [
    "# Пример использования\n",
    "acc_nick = Account(\"Никита Литвинов\", 1000)\n",
    "acc_nick.deposit(500)\n",
    "acc_nick.withdraw(300)\n",
    "acc_nick.withdraw(1500)\n",
    "acc_nick.deposit(0)\n",
    "\n",
    "acc_anastasia = Account(\"Анастасия Литвинова\", 10000000)\n",
    "acc_anastasia.get_balance()\n",
    "acc_anastasia.withdraw(500000)\n",
    "acc_nick.deposit(500000)\n",
    "acc_anastasia.get_balance()\n",
    "acc_anastasia.get_history()\n",
    "acc_nick.get_balance()\n",
    "acc_nick.get_history()"
   ],
   "id": "d03577950dfa9b1a",
   "outputs": [
    {
     "name": "stdout",
     "output_type": "stream",
     "text": [
      "[Никита Литвинов] Операция прошла успешно – 500$ внесены в счет.\n",
      "[Никита Литвинов] Операция прошла успешно – 300$ выведены со счета.\n",
      "[Никита Литвинов] В операции отказано – неверная сумма вывода или недостаточно средств.\n",
      "[Никита Литвинов] В операции отказано – введите положительный баланс.\n",
      "Текущий баланс: [Анастасия Литвинова] – 10000000$\n",
      "[Анастасия Литвинова] Операция прошла успешно – 500000$ выведены со счета.\n",
      "[Никита Литвинов] Операция прошла успешно – 500000$ внесены в счет.\n",
      "Текущий баланс: [Анастасия Литвинова] – 9500000$\n",
      "История транзакций: [Анастасия Литвинова] – ['Выведено 500000$']\n",
      "Текущий баланс: [Никита Литвинов] – 501200$\n",
      "История транзакций: [Никита Литвинов] – ['Внесено 500$', 'Выведено 300$', 'Внесено 500000$']\n"
     ]
    }
   ],
   "execution_count": 29
  }
 ],
 "metadata": {
  "kernelspec": {
   "display_name": "Python 3",
   "language": "python",
   "name": "python3"
  },
  "language_info": {
   "codemirror_mode": {
    "name": "ipython",
    "version": 2
   },
   "file_extension": ".py",
   "mimetype": "text/x-python",
   "name": "python",
   "nbconvert_exporter": "python",
   "pygments_lexer": "ipython2",
   "version": "2.7.6"
  }
 },
 "nbformat": 4,
 "nbformat_minor": 5
}
