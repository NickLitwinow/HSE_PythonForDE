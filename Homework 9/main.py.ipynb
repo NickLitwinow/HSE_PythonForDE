{
 "cells": [
  {
   "cell_type": "code",
   "id": "initial_id",
   "metadata": {
    "collapsed": true,
    "ExecuteTime": {
     "end_time": "2024-11-24T12:38:41.924311Z",
     "start_time": "2024-11-24T12:38:41.916432Z"
    }
   },
   "source": [
    "from pyspark.sql import SparkSession\n",
    "from pyspark.sql.functions import col, explode, split, lower, regexp_replace\n",
    "import os\n",
    "\n",
    "os.environ['SPARK_HOME']=\"/opt/homebrew/Cellar/apache-spark/3.5.3/libexec\"\n",
    "os.environ['PYSPARK_PYTHON']='python'\n",
    "\n",
    "# Создание SparkSession\n",
    "spark = SparkSession.builder.appName(\"Movie Word Count with Preprocessing\").getOrCreate()\n",
    "\n",
    "# Чтение данных из CSV-файла\n",
    "df = spark.read.csv(\"./movies.csv\", header=True)\n",
    "\n",
    "# Предобработка и извлечение слов\n",
    "words_df = df.select(\n",
    "    explode(\n",
    "        split(\n",
    "            regexp_replace(lower(col(\"Film\")), r\"[^a-zA-Z0-9\\s]\", \"\"),  # Удаление нежелательных символов\n",
    "            r\"\\s+\"  # Разделение по пробелам\n",
    "        )\n",
    "    ).alias(\"word\")\n",
    ")\n",
    "\n",
    "# Исключение стоп-слов\n",
    "stop_words = [\n",
    "    \"the\", \"and\", \"a\", \"of\", \"to\", \"in\", \"is\", \"it\", \"you\", \"that\",\n",
    "    \"for\", \"on\", \"with\", \"as\", \"this\", \"by\"\n",
    "]\n",
    "filtered_words_df = words_df.filter(~col(\"word\").isin(stop_words))\n",
    "\n",
    "# Подсчет частоты слов\n",
    "word_counts = filtered_words_df.groupBy(\"word\").count()\n",
    "\n",
    "# Нахождение самого частого слова\n",
    "most_common_word = word_counts.orderBy(col(\"count\").desc()).first()\n",
    "\n",
    "if most_common_word:\n",
    "    print(f\"Самое частое слово: '{most_common_word['word']}', которое встречается {most_common_word['count']} раз).\")\n",
    "else:\n",
    "    print(\"Не найдено ни одного слова после фильтрации.\")\n",
    "\n",
    "# Остановка SparkSession\n",
    "spark.stop()"
   ],
   "outputs": [
    {
     "name": "stdout",
     "output_type": "stream",
     "text": [
      "Самое частое слово 'love' которое встречается 4 раз.\n"
     ]
    }
   ],
   "execution_count": 3
  },
  {
   "metadata": {},
   "cell_type": "code",
   "outputs": [],
   "execution_count": null,
   "source": "",
   "id": "9b82ff9a68ee4474"
  }
 ],
 "metadata": {
  "kernelspec": {
   "display_name": "Python 3",
   "language": "python",
   "name": "python3"
  },
  "language_info": {
   "codemirror_mode": {
    "name": "ipython",
    "version": 2
   },
   "file_extension": ".py",
   "mimetype": "text/x-python",
   "name": "python",
   "nbconvert_exporter": "python",
   "pygments_lexer": "ipython2",
   "version": "2.7.6"
  }
 },
 "nbformat": 4,
 "nbformat_minor": 5
}
