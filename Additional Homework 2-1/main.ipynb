{
 "cells": [
  {
   "metadata": {},
   "cell_type": "markdown",
   "source": "### Задание 1",
   "id": "d8918b16f4566e30"
  },
  {
   "cell_type": "code",
   "id": "initial_id",
   "metadata": {
    "collapsed": true,
    "ExecuteTime": {
     "end_time": "2024-10-24T14:17:00.146646Z",
     "start_time": "2024-10-24T14:17:00.142703Z"
    }
   },
   "source": [
    "def find_middle_letters(word):\n",
    "  \"\"\"Находит среднюю или две средних буквы в слове.\n",
    "\n",
    "  Args:\n",
    "    word: Входное слово.\n",
    "\n",
    "  Returns:\n",
    "    Строка со средней или двумя средними буквами.\n",
    "  \"\"\"\n",
    "\n",
    "  length = len(word)\n",
    "  if length % 2 == 0:\n",
    "    # Четное количество букв\n",
    "    return word[length // 2 - 1: length // 2 + 1]\n",
    "  else:\n",
    "    # Нечетное количество букв\n",
    "    return word[length // 2]\n",
    "\n",
    "# Примеры использования\n",
    "word = \"test\"\n",
    "print(find_middle_letters(word))  # Вывод: es\n",
    "\n",
    "word = \"testing\"\n",
    "print(find_middle_letters(word))  # Вывод: t"
   ],
   "outputs": [
    {
     "name": "stdout",
     "output_type": "stream",
     "text": [
      "es\n",
      "t\n"
     ]
    }
   ],
   "execution_count": 1
  },
  {
   "metadata": {},
   "cell_type": "markdown",
   "source": "### Задание 2",
   "id": "d7fe052f5ffaff23"
  },
  {
   "metadata": {
    "ExecuteTime": {
     "end_time": "2024-10-24T14:17:16.395158Z",
     "start_time": "2024-10-24T14:17:16.381777Z"
    }
   },
   "cell_type": "code",
   "source": [
    "def match_pairs(boys, girls):\n",
    "  \"\"\"Сопоставляет пары в соответствии с алфавитным порядком.\n",
    "\n",
    "  Args:\n",
    "    boys: Список имен юношей.\n",
    "    girls: Список имен девушек.\n",
    "\n",
    "  Returns:\n",
    "    Строка с результатом сопоставления пар или предупреждение.\n",
    "  \"\"\"\n",
    "\n",
    "  if len(boys) != len(girls):\n",
    "    return \"Количество юношей и девушек не совпадает!\"\n",
    "\n",
    "  boys.sort()\n",
    "  girls.sort()\n",
    "\n",
    "  pairs = []\n",
    "  for boy, girl in zip(boys, girls):\n",
    "    pairs.append(f\"{boy} и {girl}\")\n",
    "\n",
    "  if pairs:\n",
    "    return \"Идеальные пары:\\n\" + \"\\n\".join(pairs)\n",
    "  else:\n",
    "    return \"Внимание, кто-то может остаться без пары!\"\n",
    "\n",
    "# Примеры использования\n",
    "boys = [\"Peter\", \"Alex\", \"John\", \"Arthur\", \"Richard\"]\n",
    "girls = [\"Kate\", \"Liza\", \"Kira\", \"Emma\", \"Trisha\"]\n",
    "print(match_pairs(boys, girls))\n",
    "\n",
    "boys = [\"Peter\", \"Alex\", \"John\", \"Arthur\", \"Richard\", \"Michael\"]\n",
    "girls = [\"Kate\", \"Liza\", \"Kira\", \"Emma\", \"Trisha\"]\n",
    "print(match_pairs(boys, girls))"
   ],
   "id": "fd7f5566790e352f",
   "outputs": [
    {
     "name": "stdout",
     "output_type": "stream",
     "text": [
      "Идеальные пары:\n",
      "Alex и Emma\n",
      "Arthur и Kate\n",
      "John и Kira\n",
      "Peter и Liza\n",
      "Richard и Trisha\n",
      "Количество юношей и девушек не совпадает!\n"
     ]
    }
   ],
   "execution_count": 2
  },
  {
   "metadata": {},
   "cell_type": "code",
   "outputs": [],
   "execution_count": null,
   "source": "",
   "id": "9a4fd427d44d6fda"
  }
 ],
 "metadata": {
  "kernelspec": {
   "display_name": "Python 3",
   "language": "python",
   "name": "python3"
  },
  "language_info": {
   "codemirror_mode": {
    "name": "ipython",
    "version": 2
   },
   "file_extension": ".py",
   "mimetype": "text/x-python",
   "name": "python",
   "nbconvert_exporter": "python",
   "pygments_lexer": "ipython2",
   "version": "2.7.6"
  }
 },
 "nbformat": 4,
 "nbformat_minor": 5
}
