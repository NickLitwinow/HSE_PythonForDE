{
 "cells": [
  {
   "cell_type": "code",
   "id": "initial_id",
   "metadata": {
    "collapsed": true,
    "ExecuteTime": {
     "end_time": "2024-09-19T12:37:36.784545Z",
     "start_time": "2024-09-19T12:37:36.782115Z"
    }
   },
   "source": [
    "# IMPORTED LIBRARIES\n",
    "from datetime import datetime, timedelta"
   ],
   "outputs": [],
   "execution_count": 15
  },
  {
   "metadata": {
    "ExecuteTime": {
     "end_time": "2024-09-19T12:34:22.113399Z",
     "start_time": "2024-09-19T12:34:22.110676Z"
    }
   },
   "cell_type": "code",
   "source": [
    "# ЗАДАНИЕ 1\n",
    "# Исходные данные\n",
    "dates = {\n",
    "    \"The Moscow Times\": \"Wednesday, October 2, 2002\",\n",
    "    \"The Guardian\": \"Friday, 11.10.13\",\n",
    "    \"Daily News\": \"Thursday, 18 August 1977\"\n",
    "}\n",
    "\n",
    "# Форматы для каждой газеты\n",
    "formats = {\n",
    "    \"The Moscow Times\": \"%A, %B %d, %Y\",\n",
    "    \"The Guardian\": \"%A, %d.%m.%y\",\n",
    "    \"Daily News\": \"%A, %d %B %Y\"\n",
    "}\n",
    "\n",
    "# Преобразование дат в объекты datetime\n",
    "for newspaper, date_str in dates.items():\n",
    "    date_obj = datetime.strptime(date_str, formats[newspaper])\n",
    "    print(f\"{newspaper}: {date_obj}\")"
   ],
   "id": "c5b4e5217770c673",
   "outputs": [
    {
     "name": "stdout",
     "output_type": "stream",
     "text": [
      "The Moscow Times: 2002-10-02 00:00:00\n",
      "The Guardian: 2013-10-11 00:00:00\n",
      "Daily News: 1977-08-18 00:00:00\n"
     ]
    }
   ],
   "execution_count": 14
  },
  {
   "metadata": {
    "ExecuteTime": {
     "end_time": "2024-09-19T12:40:26.922131Z",
     "start_time": "2024-09-19T12:40:26.916683Z"
    }
   },
   "cell_type": "code",
   "source": [
    "def date_range(start_date, end_date):\n",
    "    try:\n",
    "        # Преобразуем строки в объекты datetime\n",
    "        start = datetime.strptime(start_date, \"%Y-%m-%d\")\n",
    "        end = datetime.strptime(end_date, \"%Y-%m-%d\")\n",
    "\n",
    "        # Проверяем на start_date <= end_date\n",
    "        if start > end:\n",
    "            return []\n",
    "\n",
    "        # Генерация списка дат\n",
    "        date_list = []\n",
    "        current_date = start\n",
    "        while current_date <= end:\n",
    "            date_list.append(current_date.strftime(\"%Y-%m-%d\"))\n",
    "            current_date += timedelta(days=1)\n",
    "        return date_list\n",
    "\n",
    "    except ValueError:\n",
    "        return []\n",
    "\n",
    "# Примеры работы программы\n",
    "print(date_range('2022-01-01', '2022-01-03'))\n",
    "print(date_range('2022-01-03', '2022-01-01'))\n",
    "print(date_range('дата ли это? Хммм', '2022-01-03'))"
   ],
   "id": "6eb97e84f489551b",
   "outputs": [
    {
     "name": "stdout",
     "output_type": "stream",
     "text": [
      "['2022-01-01', '2022-01-02', '2022-01-03']\n",
      "[]\n",
      "[]\n"
     ]
    }
   ],
   "execution_count": 23
  }
 ],
 "metadata": {
  "kernelspec": {
   "display_name": "Python 3",
   "language": "python",
   "name": "python3"
  },
  "language_info": {
   "codemirror_mode": {
    "name": "ipython",
    "version": 2
   },
   "file_extension": ".py",
   "mimetype": "text/x-python",
   "name": "python",
   "nbconvert_exporter": "python",
   "pygments_lexer": "ipython2",
   "version": "2.7.6"
  }
 },
 "nbformat": 4,
 "nbformat_minor": 5
}
