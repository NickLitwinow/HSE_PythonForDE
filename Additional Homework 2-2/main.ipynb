{
 "cells": [
  {
   "metadata": {},
   "cell_type": "markdown",
   "source": "### Задание 1",
   "id": "6e8adb36ab90e9ab"
  },
  {
   "cell_type": "code",
   "id": "initial_id",
   "metadata": {
    "collapsed": true,
    "ExecuteTime": {
     "end_time": "2024-10-24T14:20:56.439215Z",
     "start_time": "2024-10-24T14:20:56.435213Z"
    }
   },
   "source": [
    "def unique_geo_tags(user_data):\n",
    "  \"\"\"Находит множество уникальных геометок для всех пользователей.\n",
    "\n",
    "  Args:\n",
    "    user_data: Словарь, где ключи - имена пользователей, значения - списки геометок.\n",
    "\n",
    "  Returns:\n",
    "    Множество уникальных геометок.\n",
    "  \"\"\"\n",
    "\n",
    "  all_geo_tags = set()\n",
    "  for user, tags in user_data.items():\n",
    "    all_geo_tags.update(tags)\n",
    "  return all_geo_tags\n",
    "\n",
    "# Пример использования\n",
    "ids = {'user1': [213, 213, 213, 15, 213],\n",
    "       'user2': [54, 54, 119, 119, 119],\n",
    "       'user3': [213, 98, 98, 35]}\n",
    "\n",
    "unique_tags = unique_geo_tags(ids)\n",
    "print(unique_tags)"
   ],
   "outputs": [
    {
     "name": "stdout",
     "output_type": "stream",
     "text": [
      "{98, 35, 15, 213, 54, 119}\n"
     ]
    }
   ],
   "execution_count": 1
  },
  {
   "metadata": {},
   "cell_type": "markdown",
   "source": "### Задание 2",
   "id": "685c36f002bbc6a7"
  },
  {
   "metadata": {
    "ExecuteTime": {
     "end_time": "2024-10-24T14:21:46.142703Z",
     "start_time": "2024-10-24T14:21:46.122937Z"
    }
   },
   "cell_type": "code",
   "source": [
    "def word_count_distribution(queries):\n",
    "  \"\"\"Вычисляет распределение количества слов в поисковых запросах.\n",
    "\n",
    "  Args:\n",
    "    queries: Список поисковых запросов.\n",
    "\n",
    "  Returns:\n",
    "    Словарь, где ключи - количество слов, значения - процент запросов с таким количеством слов.\n",
    "  \"\"\"\n",
    "\n",
    "  word_counts = {}\n",
    "  total_queries = len(queries)\n",
    "\n",
    "  for query in queries:\n",
    "    word_count = len(query.split())\n",
    "    word_counts[word_count] = word_counts.get(word_count, 0) + 1\n",
    "\n",
    "  for word_count, count in word_counts.items():\n",
    "    percentage = count / total_queries * 100\n",
    "    print(f\"Поисковых запросов, содержащих {word_count} слов(а): {percentage:.2f}%\")\n",
    "\n",
    "# Пример использования\n",
    "queries = [\n",
    "    'смотреть сериалы онлайн',\n",
    "    'новости спорта',\n",
    "    'афиша кино',\n",
    "    'курс доллара',\n",
    "    'сериалы этим летом',\n",
    "    'курс по питону',\n",
    "    'сериалы про спорт',\n",
    "]\n",
    "\n",
    "word_count_distribution(queries)"
   ],
   "id": "7010959940b3ae68",
   "outputs": [
    {
     "name": "stdout",
     "output_type": "stream",
     "text": [
      "Поисковых запросов, содержащих 3 слов(а): 57.14%\n",
      "Поисковых запросов, содержащих 2 слов(а): 42.86%\n"
     ]
    }
   ],
   "execution_count": 2
  },
  {
   "metadata": {},
   "cell_type": "code",
   "outputs": [],
   "execution_count": null,
   "source": "",
   "id": "62268fa3a28d29fb"
  }
 ],
 "metadata": {
  "kernelspec": {
   "display_name": "Python 3",
   "language": "python",
   "name": "python3"
  },
  "language_info": {
   "codemirror_mode": {
    "name": "ipython",
    "version": 2
   },
   "file_extension": ".py",
   "mimetype": "text/x-python",
   "name": "python",
   "nbconvert_exporter": "python",
   "pygments_lexer": "ipython2",
   "version": "2.7.6"
  }
 },
 "nbformat": 4,
 "nbformat_minor": 5
}
